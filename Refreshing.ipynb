{
  "cells": [
    {
      "cell_type": "markdown",
      "metadata": {
        "id": "t3r6TRNvN_4c"
      },
      "source": [
        "## Refreshment"
      ]
    },
    {
      "cell_type": "code",
      "execution_count": null,
      "metadata": {
        "colab": {
          "base_uri": "https://localhost:8080/"
        },
        "id": "Z8cUXsReOzPb",
        "outputId": "5eadcf4c-b7ff-4b06-a3b1-88e74ab3e9c2"
      },
      "outputs": [
        {
          "name": "stdout",
          "output_type": "stream",
          "text": [
            "Hello python interpreter\n"
          ]
        }
      ],
      "source": [
        "# Python Crash Course\n",
        "print(\"Hello python interpreter\")"
      ]
    },
    {
      "cell_type": "code",
      "execution_count": null,
      "metadata": {
        "colab": {
          "base_uri": "https://localhost:8080/"
        },
        "id": "-4V0OvsTGV4t",
        "outputId": "896f31e4-88d2-4b01-e02c-786dc8e01ba2"
      },
      "outputs": [
        {
          "name": "stdout",
          "output_type": "stream",
          "text": [
            "Hellow seetelah sekian lama\n"
          ]
        }
      ],
      "source": [
        "# Assign Variable\n",
        "Masaga = \"Hellow seetelah sekian lama\"\n",
        "print(Masaga)"
      ]
    },
    {
      "cell_type": "code",
      "execution_count": null,
      "metadata": {
        "colab": {
          "base_uri": "https://localhost:8080/"
        },
        "id": "RQHUQ_UPwvrx",
        "outputId": "28fda40a-16a4-4dba-f618-6a7c53c771e7"
      },
      "outputs": [
        {
          "name": "stdout",
          "output_type": "stream",
          "text": [
            "Ada Hullington Whoreiak\n",
            "ADA HULLINGTON WHOREIAK\n",
            "ada hullington whoreiak\n"
          ]
        }
      ],
      "source": [
        "# Strings\n",
        "name = \"Ada Hullington Whoreiak\"\n",
        "print(name.title())\n",
        "print(name.upper())\n",
        "print(name.lower()) # Useful  for storing data"
      ]
    },
    {
      "cell_type": "code",
      "execution_count": null,
      "metadata": {
        "colab": {
          "base_uri": "https://localhost:8080/"
        },
        "id": "SQMX-2gXw1TA",
        "outputId": "0baddb72-9213-431f-c6dd-94384498d017"
      },
      "outputs": [
        {
          "name": "stdout",
          "output_type": "stream",
          "text": [
            "Ryan Akbar\n",
            "Hello, RYAN AKBAR\n",
            "Hello, RYAN AKBAR\n"
          ]
        }
      ],
      "source": [
        "# F-string function in conc string\n",
        "first_name = \"Ryan\"\n",
        "last_name = \"Akbar\"\n",
        "full_name = f\"{first_name} {last_name}\"\n",
        "print(full_name)\n",
        "\n",
        "print(f\"Hello, {full_name.upper()}\")\n",
        "\n",
        "ab = f\"Hello, {full_name.upper()}\"\n",
        "print(ab)"
      ]
    },
    {
      "cell_type": "code",
      "execution_count": null,
      "metadata": {
        "colab": {
          "base_uri": "https://localhost:8080/"
        },
        "id": "cYhOPijfx5tW",
        "outputId": "137251ab-5d26-49a8-c1d6-b102fce62f9f"
      },
      "outputs": [
        {
          "name": "stdout",
          "output_type": "stream",
          "text": [
            "Python\n",
            "Language\n",
            "Coding\n",
            "is\n",
            "fun\n",
            "and\tiam\n",
            "\twporking on it\n"
          ]
        }
      ],
      "source": [
        "# Adding whitspaces\n",
        "print(\"Python\\nLanguage\") # \\n indicates whitespaces\n",
        "\n",
        "print(\"Coding\\nis\\nfun\\nand\\tiam\\n\\twporking on it\")"
      ]
    },
    {
      "cell_type": "code",
      "execution_count": null,
      "metadata": {
        "colab": {
          "base_uri": "https://localhost:8080/"
        },
        "id": "bBDRal5JzCWD",
        "outputId": "13241eda-62cf-446a-9535-14ca2ef3ed59"
      },
      "outputs": [
        {
          "name": "stdout",
          "output_type": "stream",
          "text": [
            "Python 1 1\n"
          ]
        }
      ],
      "source": [
        "# Stripping whitespaces\n",
        "current_language = \"Python 1 1\"\n",
        "print(current_language.rstrip())"
      ]
    },
    {
      "cell_type": "code",
      "execution_count": null,
      "metadata": {
        "colab": {
          "base_uri": "https://localhost:8080/"
        },
        "id": "dtQgOTDT09hf",
        "outputId": "69fd432b-d1f3-4dfb-e0eb-0e332ae93a79"
      },
      "outputs": [
        {
          "name": "stdout",
          "output_type": "stream",
          "text": [
            "Hello John Wick, Happy killing today?\n",
            "\n",
            "Johnatan Wiked\n",
            "JOHNATAN WIKED\n",
            "johnatan wiked\n",
            "\n",
            "Alber einstein once said, \"blewidoowkdoowf\"\n",
            "Albert Einstein once said, \"WIFOKWOFWIFWF\"\n",
            "Ryan Akbar \n",
            "Ryan Akbar\n",
            " Ryan Akbar\n"
          ]
        }
      ],
      "source": [
        "# Task 2-3 Personal Message\n",
        "name = \"John Wick\"\n",
        "message = \"Happy killing today?\\n\"\n",
        "print(\"Hello \" f'{name}, {message}')\n",
        "\n",
        "# Task 2-4 Name Cases\n",
        "name = \"Johnatan Wiked\"\n",
        "print(name.title())\n",
        "print(name.upper())\n",
        "print(name.lower())\n",
        "\n",
        "# Task 2-5 Famouse Quote\n",
        "print('\\nAlber einstein once said, \"blewidoowkdoowf\"')\n",
        "\n",
        "# Task 2-6 Famous Quote 2\n",
        "famous_person = \"Albert Einstein\"\n",
        "message = f'{famous_person} once said, \"WIFOKWOFWIFWF\"'\n",
        "print(message)\n",
        "\n",
        "#Task 2-7 Stripping names\n",
        "name = \" Ryan Akbar \"\n",
        "print(name.lstrip())\n",
        "print(name.strip())\n",
        "print(name.rstrip())"
      ]
    },
    {
      "cell_type": "markdown",
      "metadata": {},
      "source": [
        "# Lists"
      ]
    },
    {
      "cell_type": "code",
      "execution_count": 1,
      "metadata": {
        "id": "7hGQZKxY15ko"
      },
      "outputs": [
        {
          "name": "stdout",
          "output_type": "stream",
          "text": [
            "['trek', 'cannondale', 'redline', 'specialized']\n"
          ]
        }
      ],
      "source": [
        "#  Beigns with [] bracket\n",
        "bicycles = ['trek', 'cannondale', 'redline', 'specialized']\n",
        "print(bicycles)"
      ]
    },
    {
      "cell_type": "code",
      "execution_count": 3,
      "metadata": {},
      "outputs": [
        {
          "name": "stdout",
          "output_type": "stream",
          "text": [
            "Trek\n"
          ]
        }
      ],
      "source": [
        "# Acessing Elements\n",
        "print(bicycles[0].title())"
      ]
    },
    {
      "cell_type": "code",
      "execution_count": 4,
      "metadata": {},
      "outputs": [
        {
          "name": "stdout",
          "output_type": "stream",
          "text": [
            "cannondale\n",
            "specialized\n"
          ]
        }
      ],
      "source": [
        "# Index position starts from 0\n",
        "print(bicycles[1])\n",
        "print(bicycles[3])"
      ]
    },
    {
      "cell_type": "code",
      "execution_count": 5,
      "metadata": {},
      "outputs": [
        {
          "name": "stdout",
          "output_type": "stream",
          "text": [
            "specialized\n"
          ]
        }
      ],
      "source": [
        "# access last element by -1\n",
        "print(bicycles[-1])"
      ]
    },
    {
      "cell_type": "code",
      "execution_count": 6,
      "metadata": {},
      "outputs": [
        {
          "name": "stdout",
          "output_type": "stream",
          "text": [
            "John\n",
            "Doe\n",
            "Jane\n",
            "Doe\n",
            "Ryan\n"
          ]
        }
      ],
      "source": [
        "# Task 3-1 Names\n",
        "names = [\"John\", \"Doe\", \"Jane\", \"Doe\", \"Ryan\", \"Akbar\"]\n",
        "print(names[0])\n",
        "print(names[1])\n",
        "print(names[2])\n",
        "print(names[3])\n",
        "print(names[4])"
      ]
    },
    {
      "cell_type": "code",
      "execution_count": 11,
      "metadata": {},
      "outputs": [
        {
          "name": "stdout",
          "output_type": "stream",
          "text": [
            "Hello John\n"
          ]
        }
      ],
      "source": [
        "# Task 3-2 Greetings\n",
        "print('Hello',names[0])"
      ]
    },
    {
      "cell_type": "code",
      "execution_count": 1,
      "metadata": {},
      "outputs": [
        {
          "name": "stdout",
          "output_type": "stream",
          "text": [
            "I would like to own a Tesla\n"
          ]
        }
      ],
      "source": [
        "# Task 3-3 Your Own List\n",
        "dream_car = [\"Tesla\", \"BYD\", \"Hyundai Ioniq\", \"EV\"]\n",
        "print(f\"I would like to own a {dream_car[0]}\")"
      ]
    },
    {
      "cell_type": "code",
      "execution_count": 4,
      "metadata": {},
      "outputs": [
        {
          "name": "stdout",
          "output_type": "stream",
          "text": [
            "Tyiggo\n",
            "['Tyiggo', 'BYD', 'Hyundai Ioniq', 'EV', 'Chrysantheum']\n"
          ]
        }
      ],
      "source": [
        "# Changing, adding, and removing elements\n",
        "dream_car[0] = \"Tyiggo\"\n",
        "print(dream_car[0])\n",
        "\n",
        "dream_car.append(\"Chrysantheum\")\n",
        "print(dream_car)"
      ]
    },
    {
      "cell_type": "code",
      "execution_count": 7,
      "metadata": {},
      "outputs": [
        {
          "name": "stdout",
          "output_type": "stream",
          "text": [
            "['EV', 'Tesla', 'BYD', 'Hyundai Ioniq']\n"
          ]
        }
      ],
      "source": [
        "# empty list\n",
        "dream_car = []\n",
        "dream_car.append(\"Tesla\")\n",
        "dream_car.append(\"BYD\")\n",
        "dream_car.append(\"Hyundai Ioniq\")\n",
        "\n",
        "dream_car.insert(0, \"EV\")\n",
        "\n",
        "print(dream_car)"
      ]
    },
    {
      "cell_type": "code",
      "execution_count": 2,
      "metadata": {},
      "outputs": [
        {
          "name": "stdout",
          "output_type": "stream",
          "text": [
            "['John', 'Doe', 'Dae', 'Doe', 'Ryan', 'Akbar']\n"
          ]
        }
      ],
      "source": [
        "# Task 3-4 Guest List\n",
        "guest_list = [\"John\",\"Doe\", \"Dae\", \"Doe\", \"Ryan\", \"Akbar\"]\n",
        "print(guest_list)"
      ]
    },
    {
      "cell_type": "code",
      "execution_count": 3,
      "metadata": {},
      "outputs": [
        {
          "name": "stdout",
          "output_type": "stream",
          "text": [
            "Hello John you are invited to dinner\n",
            "Hello Doe you are invited to dinner\n"
          ]
        }
      ],
      "source": [
        "# Task 3-5 Changing guest list\n",
        "print(f\"Hello {guest_list[0]} you are invited to dinner\")\n",
        "print(f\"Hello {guest_list[1]} you are invited to dinner\")\n",
        "guest_list[0] = \"Jane\""
      ]
    },
    {
      "cell_type": "code",
      "execution_count": 4,
      "metadata": {},
      "outputs": [],
      "source": [
        "# Task 3-6 More Guests\n",
        "guest_list.insert(0, \"John\")\n",
        "guest_list.insert(3, \"Doe\")\n",
        "guest_list.append(\"Jane\")\n"
      ]
    },
    {
      "cell_type": "code",
      "execution_count": 5,
      "metadata": {},
      "outputs": [
        {
          "data": {
            "text/plain": [
              "'Jane'"
            ]
          },
          "execution_count": 5,
          "metadata": {},
          "output_type": "execute_result"
        }
      ],
      "source": [
        "# Task 3-7 shrinking guest list\n",
        "guest_list.pop()"
      ]
    },
    {
      "cell_type": "code",
      "execution_count": 6,
      "metadata": {},
      "outputs": [
        {
          "data": {
            "text/plain": [
              "['John', 'Jane', 'Doe', 'Doe', 'Dae', 'Doe', 'Ryan', 'Akbar']"
            ]
          },
          "execution_count": 6,
          "metadata": {},
          "output_type": "execute_result"
        }
      ],
      "source": [
        "guest_list"
      ]
    },
    {
      "cell_type": "code",
      "execution_count": 7,
      "metadata": {},
      "outputs": [
        {
          "data": {
            "text/plain": [
              "'Doe'"
            ]
          },
          "execution_count": 7,
          "metadata": {},
          "output_type": "execute_result"
        }
      ],
      "source": [
        "guest_list.pop()\n",
        "guest_list.pop()\n",
        "guest_list.pop()\n",
        "guest_list.pop()\n",
        "guest_list.pop()\n"
      ]
    },
    {
      "cell_type": "code",
      "execution_count": 8,
      "metadata": {},
      "outputs": [
        {
          "data": {
            "text/plain": [
              "['John', 'Jane', 'Doe']"
            ]
          },
          "execution_count": 8,
          "metadata": {},
          "output_type": "execute_result"
        }
      ],
      "source": [
        "guest_list"
      ]
    },
    {
      "cell_type": "code",
      "execution_count": 9,
      "metadata": {},
      "outputs": [],
      "source": [
        "del guest_list"
      ]
    },
    {
      "cell_type": "code",
      "execution_count": 12,
      "metadata": {},
      "outputs": [
        {
          "name": "stdout",
          "output_type": "stream",
          "text": [
            "['audi', 'bmw', 'subaru', 'toyota']\n"
          ]
        }
      ],
      "source": [
        "# Organizing a list\n",
        "cars = ['bmw', 'audi', 'toyota', 'subaru']\n",
        "cars.sort()\n",
        "print(cars)"
      ]
    },
    {
      "cell_type": "code",
      "execution_count": 14,
      "metadata": {},
      "outputs": [
        {
          "name": "stdout",
          "output_type": "stream",
          "text": [
            "['toyota', 'subaru', 'bmw', 'audi']\n"
          ]
        }
      ],
      "source": [
        "cars.sort(reverse=True)\n",
        "print(cars)"
      ]
    },
    {
      "cell_type": "code",
      "execution_count": 15,
      "metadata": {},
      "outputs": [
        {
          "name": "stdout",
          "output_type": "stream",
          "text": [
            "Here is the original list:\n",
            "['bmw', 'audi', 'toyota', 'subaru']\n",
            "\n",
            "Here is the sorted list:\n",
            "['audi', 'bmw', 'subaru', 'toyota']\n",
            "\n",
            "Here is the original list again:\n",
            "['bmw', 'audi', 'toyota', 'subaru']\n"
          ]
        }
      ],
      "source": [
        "# Sorting a list temporarily\n",
        "cars = ['bmw', 'audi', 'toyota', 'subaru']\n",
        "\n",
        "print(\"Here is the original list:\")\n",
        "print(cars)\n",
        "\n",
        "print(\"\\nHere is the sorted list:\")\n",
        "print(sorted(cars))\n",
        "\n",
        "print(\"\\nHere is the original list again:\")\n",
        "print(cars)"
      ]
    },
    {
      "cell_type": "code",
      "execution_count": 16,
      "metadata": {},
      "outputs": [
        {
          "data": {
            "text/plain": [
              "4"
            ]
          },
          "execution_count": 16,
          "metadata": {},
          "output_type": "execute_result"
        }
      ],
      "source": [
        "# Finding the length of the list\n",
        "cars = ['bmw', 'audi', 'toyota', 'subaru']\n",
        "len(cars)\n"
      ]
    },
    {
      "cell_type": "code",
      "execution_count": 2,
      "metadata": {},
      "outputs": [
        {
          "name": "stdout",
          "output_type": "stream",
          "text": [
            "['Paris', 'London', 'New York', 'Tokyo', 'Seoul']\n",
            "['London', 'New York', 'Paris', 'Seoul', 'Tokyo']\n",
            "['Paris', 'London', 'New York', 'Tokyo', 'Seoul']\n"
          ]
        }
      ],
      "source": [
        "# Task 3-8 Seeing the world \n",
        "locations = [\"Paris\", \"London\", \"New York\", \"Tokyo\", \"Seoul\"]\n",
        "print(locations)\n",
        "print(sorted(locations)) # Temporarily sorted (doesn't alter the original list)\n",
        "print(locations)"
      ]
    },
    {
      "cell_type": "code",
      "execution_count": 3,
      "metadata": {},
      "outputs": [
        {
          "name": "stdout",
          "output_type": "stream",
          "text": [
            "['Nintendo', 'PC', 'PS4', 'Xbox']\n",
            "['Xbox', 'PS4', 'PC', 'Nintendo']\n",
            "['PS4', 'Xbox', 'Nintendo', 'PC']\n",
            "['Nintendo', 'PC', 'PS4', 'Xbox', 'Mobile']\n",
            "['Nintendo', 'PC', 'PS4', 'Xbox', 'VR', 'Mobile']\n"
          ]
        },
        {
          "data": {
            "text/plain": [
              "3"
            ]
          },
          "execution_count": 3,
          "metadata": {},
          "output_type": "execute_result"
        }
      ],
      "source": [
        "# Task 3-9 Dinner Guests\n",
        "guest_list = [\"John\",\"Doe\", \"Dae\", \"Doe\", \"Ryan\", \"Akbar\"]\n",
        "len(guest_list)\n",
        "\n",
        "# Task 3-10 Every Function\n",
        "game_gear = [\"PS4\", \"Xbox\", \"Nintendo\", \"PC\"]\n",
        "# 1. Sort\n",
        "print(sorted(game_gear))\n",
        "print(sorted(game_gear, reverse=True))\n",
        "print(game_gear)\n",
        "# 2. Sorted\n",
        "game_gear.sort()\n",
        "# 3. Append\n",
        "game_gear.append(\"Mobile\")\n",
        "print(game_gear)\n",
        "# 4. Insert\n",
        "game_gear.insert(-1, \"VR\")\n",
        "print(game_gear)\n",
        "# 5. Pop\n",
        "game_gear.pop()\n",
        "# 6. Remove\n",
        "game_gear.remove(\"Nintendo\")\n",
        "# 7. Del\n",
        "del game_gear[0]\n",
        "# 8. Len\n",
        "len(game_gear)\n"
      ]
    },
    {
      "cell_type": "markdown",
      "metadata": {},
      "source": [
        "# Working with a List"
      ]
    },
    {
      "cell_type": "code",
      "execution_count": 4,
      "metadata": {},
      "outputs": [
        {
          "name": "stdout",
          "output_type": "stream",
          "text": [
            "alice\n",
            "david\n",
            "carolina\n"
          ]
        }
      ],
      "source": [
        "# Looping through a list\n",
        "magicians = ['alice', 'david', 'carolina']\n",
        "for magician in magicians:\n",
        "    print(magician)\n",
        "    "
      ]
    },
    {
      "cell_type": "code",
      "execution_count": 9,
      "metadata": {},
      "outputs": [
        {
          "name": "stdout",
          "output_type": "stream",
          "text": [
            "Alice, that was a great trick!\n",
            "I can't wait to see your next trick, Alice.\n",
            "\n",
            "David, that was a great trick!\n",
            "I can't wait to see your next trick, David.\n",
            "\n",
            "Carolina, that was a great trick!\n",
            "I can't wait to see your next trick, Carolina.\n",
            "\n",
            "Thank you, everyone. That was a great magic show!\n"
          ]
        }
      ],
      "source": [
        "# More work with for loops\n",
        "magicians = ['alice', 'david', 'carolina']\n",
        "for magician in magicians:\n",
        "    print(f\"{magician.title()}, that was a great trick!\")\n",
        "    print(f\"I can't wait to see your next trick, {magician.title()}.\\n\")\n",
        "    \n",
        "print(\"Thank you, everyone. That was a great magic show!\")\n",
        "    "
      ]
    },
    {
      "cell_type": "code",
      "execution_count": null,
      "metadata": {},
      "outputs": [],
      "source": []
    }
  ],
  "metadata": {
    "colab": {
      "provenance": []
    },
    "kernelspec": {
      "display_name": "Python 3",
      "name": "python3"
    },
    "language_info": {
      "codemirror_mode": {
        "name": "ipython",
        "version": 3
      },
      "file_extension": ".py",
      "mimetype": "text/x-python",
      "name": "python",
      "nbconvert_exporter": "python",
      "pygments_lexer": "ipython3",
      "version": "3.12.1"
    }
  },
  "nbformat": 4,
  "nbformat_minor": 0
}
